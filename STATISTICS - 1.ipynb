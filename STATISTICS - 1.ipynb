{
 "cells": [
  {
   "cell_type": "markdown",
   "metadata": {},
   "source": [
    "1.1.You survey households in your area to find the average rent they are paying. Find the\n",
    "standard deviation from the following data:\n",
    "$1550, $1700, $900, $850, $1000, $950."
   ]
  },
  {
   "cell_type": "code",
   "execution_count": 1,
   "metadata": {},
   "outputs": [
    {
     "name": "stdout",
     "output_type": "stream",
     "text": [
      "Average =1158.3333333333333\n",
      "Variance =135416.66666666666\n",
      "Standard Deviation =367.9900360969936\n"
     ]
    }
   ],
   "source": [
    "import statistics as stat\n",
    "arr=[1550, 1700, 900, 850, 1000, 950]\n",
    "print(\"Average =\" + str(stat.mean(arr)))\n",
    "print(\"Variance =\" + str(stat.variance(arr)))\n",
    "print(\"Standard Deviation =\" + str(stat.stdev(arr)))"
   ]
  },
  {
   "cell_type": "code",
   "execution_count": 2,
   "metadata": {},
   "outputs": [
    {
     "name": "stdout",
     "output_type": "stream",
     "text": [
      "Average =1158.3333333333333\n",
      "Variance =135416.6666666667\n",
      "Standard Deviation =367.99003609699366\n"
     ]
    }
   ],
   "source": [
    "def find_mean(arr):\n",
    "    mean_value=sum(arr)/len(arr)\n",
    "    return mean_value\n",
    "def find_variance(arr):\n",
    "    variance=0.0\n",
    "    from math import sqrt\n",
    "    mean=find_mean(arr)\n",
    "    variance=sum((x-mean)**2 for x in arr)/(len(arr)-1)\n",
    "    return variance\n",
    "def find_std_dev(arr):\n",
    "    return find_variance(arr)**0.5\n",
    "arr=[1550, 1700, 900, 850, 1000, 950]\n",
    "print(\"Average =\" + str(find_mean(arr)))\n",
    "print(\"Variance =\" + str(find_variance(arr)))\n",
    "print(\"Standard Deviation =\" + str(find_std_dev(arr)))"
   ]
  },
  {
   "cell_type": "markdown",
   "metadata": {},
   "source": [
    "1.2. Find the variance for the following set of data representing trees in California (heights in feet):\n",
    "3, 21, 98, 203, 17, 9"
   ]
  },
  {
   "cell_type": "code",
   "execution_count": 3,
   "metadata": {},
   "outputs": [
    {
     "name": "stdout",
     "output_type": "stream",
     "text": [
      "Average =58.5\n",
      "Variance =6219.9\n",
      "Standard Deviation =78.86634263106157\n"
     ]
    }
   ],
   "source": [
    "import statistics as stat\n",
    "arr=[3, 21, 98, 203, 17, 9]\n",
    "print(\"Average =\" + str(stat.mean(arr)))\n",
    "print(\"Variance =\" + str(stat.variance(arr)))\n",
    "print(\"Standard Deviation =\" + str(stat.stdev(arr)))"
   ]
  },
  {
   "cell_type": "markdown",
   "metadata": {},
   "source": [
    "1.3. In a class on 100 students, 80 students passed in all subjects, 10 failed in one subject, 7 failed\n",
    "in two subjects and 3 failed in three subjects. Find the probability distribution of the variable for\n",
    "number of subjects a student from the given class has failed in."
   ]
  },
  {
   "cell_type": "code",
   "execution_count": 4,
   "metadata": {},
   "outputs": [
    {
     "name": "stdout",
     "output_type": "stream",
     "text": [
      "0.8\n",
      "0.1\n",
      "0.07\n",
      "0.03\n"
     ]
    }
   ],
   "source": [
    "def event_probability(event_outcomes, sample_space):\n",
    "    probability = (event_outcomes / sample_space) \n",
    "    return round(probability, 2)\n",
    "students = 100\n",
    "# The probability of failing in 0 subjects\n",
    "students_passed=80\n",
    "students_passed_probability = event_probability(students_passed, students)\n",
    "\n",
    "# The probability of failing in 1 subjects\n",
    "subject_1failed = 10\n",
    "subject_1failed_probability = event_probability(subject_1failed, students)\n",
    "\n",
    "# The probability of failing in 2 subjects\n",
    "subject_2failed = 7\n",
    "subject_2failed_probability = event_probability(subject_2failed, students)\n",
    "\n",
    "# The probability of failing in 3 subjects\n",
    "subject_3failed = 3\n",
    "subject_3failed_probability = event_probability(subject_3failed, students)\n",
    "\n",
    "# Print each probability\n",
    "print(students_passed_probability)\n",
    "print(subject_1failed_probability)\n",
    "print(subject_2failed_probability)\n",
    "print(subject_3failed_probability)"
   ]
  }
 ],
 "metadata": {
  "kernelspec": {
   "display_name": "Python 3",
   "language": "python",
   "name": "python3"
  },
  "language_info": {
   "codemirror_mode": {
    "name": "ipython",
    "version": 3
   },
   "file_extension": ".py",
   "mimetype": "text/x-python",
   "name": "python",
   "nbconvert_exporter": "python",
   "pygments_lexer": "ipython3",
   "version": "3.6.4"
  }
 },
 "nbformat": 4,
 "nbformat_minor": 2
}
